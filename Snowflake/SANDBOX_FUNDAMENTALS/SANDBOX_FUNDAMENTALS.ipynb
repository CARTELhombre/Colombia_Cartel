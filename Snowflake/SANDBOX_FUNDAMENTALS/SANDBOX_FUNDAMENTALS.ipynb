{
 "metadata": {
  "kernelspec": {
   "display_name": "Streamlit Notebook",
   "name": "streamlit"
  },
  "lastEditStatus": {
   "notebookId": "owqspfvovv4le7boc46e",
   "authorId": "8005750299858",
   "authorName": "CARTEL_BRA01",
   "authorEmail": "sthiago_17@hotmail.com",
   "sessionId": "e68c9222-800b-4ddc-ab7a-69c5dccf93d9",
   "lastEditTime": 1740475461176
  }
 },
 "nbformat_minor": 5,
 "nbformat": 4,
 "cells": [
  {
   "cell_type": "code",
   "id": "3775908f-ca36-4846-8f38-5adca39217f2",
   "metadata": {
    "language": "python",
    "name": "cell1",
    "collapsed": false
   },
   "source": "# Import python packages\nimport streamlit as st\nimport pandas as pd\nimport numpy as np\nimport matplotlib as plt\nimport altair as alt\n",
   "execution_count": null,
   "outputs": []
  },
  {
   "cell_type": "code",
   "id": "8d50cbf4-0c8d-4950-86cb-114990437ac9",
   "metadata": {
    "language": "sql",
    "name": "Covid_Testing_US"
   },
   "source": "SELECT   ISO3166_1 as Country\n        ,ISO3166_2 as State\n        ,CAST(DATE as date) Date\n        ,Positive\n        ,Negative\n        ,INCONCLUSIVE\nFROM COVID19_EPIDEMIOLOGICAL_DATA.PUBLIC.CDC_TESTING",
   "execution_count": null,
   "outputs": []
  },
  {
   "cell_type": "code",
   "id": "c695373e-ac74-4b62-a1f1-08206cbd5c81",
   "metadata": {
    "language": "python",
    "name": "cell3",
    "collapsed": false
   },
   "source": "covid_test = Covid_Testing_US.to_pandas()\n\nst.header('Total Positive Tests in the US')\nst.bar_chart(covid_test, x='STATE', y='POSITIVE', color= '#00FF00' ) \n\n",
   "execution_count": null,
   "outputs": []
  },
  {
   "cell_type": "code",
   "id": "a141d87d-df16-4494-8b47-e4f5abd26ca1",
   "metadata": {
    "language": "python",
    "name": "cell2"
   },
   "outputs": [],
   "source": "print(covid_test.head())\n\nprint(covid_test.tail())\n\nprint(covid_test.describe())\n",
   "execution_count": null
  },
  {
   "cell_type": "code",
   "id": "9ac655b3-8b5e-4d62-9b5e-39de9b52a46d",
   "metadata": {
    "language": "python",
    "name": "cell4",
    "codeCollapsed": false
   },
   "outputs": [],
   "source": "covid_test.plot(y=['POSITIVE','NEGATIVE'], xlabel='STATE', ylabel='Cases Recorded')",
   "execution_count": null
  },
  {
   "cell_type": "code",
   "id": "f313485f-3574-44ed-85d4-8a9908282ff5",
   "metadata": {
    "language": "python",
    "name": "cell5"
   },
   "outputs": [],
   "source": "",
   "execution_count": null
  }
 ]
}